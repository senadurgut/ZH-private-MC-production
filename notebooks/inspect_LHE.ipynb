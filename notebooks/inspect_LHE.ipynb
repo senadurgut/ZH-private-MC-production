{
 "cells": [
  {
   "cell_type": "code",
   "execution_count": 1,
   "id": "8444200f",
   "metadata": {},
   "outputs": [
    {
     "name": "stderr",
     "output_type": "stream",
     "text": [
      "/uscms/homes/s/sdurgut1/.venv/lib64/python3.9/site-packages/coffea/nanoevents/schemas/fcc.py:5: FutureWarning: In version 2025.1.0 (target date: 2024-12-31 11:59:59-06:00), this will be an error.\n",
      "To raise these warnings as errors (and get stack traces to find out where they're called), run\n",
      "    import warnings\n",
      "    warnings.filterwarnings(\"error\", module=\"coffea.*\")\n",
      "after the first `import coffea` or use `@pytest.mark.filterwarnings(\"error:::coffea.*\")` in pytest.\n",
      "Issue: coffea.nanoevents.methods.vector will be removed and replaced with scikit-hep vector. Nanoevents schemas internal to coffea will be migrated. Otherwise please consider using that package!.\n",
      "  from coffea.nanoevents.methods import vector\n"
     ]
    }
   ],
   "source": [
    "import subprocess, json\n",
    "from coffea.nanoevents import NanoAODSchema\n",
    "from coffea import processor\n",
    "import uproot\n",
    "\n",
    "import awkward as ak\n",
    "import numpy as np\n",
    "import dask\n",
    "import hist\n",
    "import matplotlib.pyplot as plt\n",
    "import mplhep as hep\n",
    "\n",
    "hep.style.use('CMS')"
   ]
  },
  {
   "cell_type": "code",
   "execution_count": 4,
   "id": "3b6768fd",
   "metadata": {},
   "outputs": [
    {
     "name": "stdout",
     "output_type": "stream",
     "text": [
      "<ReadOnlyDirectory '/' at 0x7f1711487580>\n"
     ]
    }
   ],
   "source": [
    "file = uproot.open(\"/uscms/home/sdurgut1/nobackup/ZH_HToWW_ZTobb_20UL_16/ZH_HToWW_ZTobb_20UL_16.root\")\n",
    "print(file)"
   ]
  },
  {
   "cell_type": "code",
   "execution_count": 7,
   "id": "1d2432df",
   "metadata": {},
   "outputs": [
    {
     "name": "stdout",
     "output_type": "stream",
     "text": [
      "[]\n"
     ]
    }
   ],
   "source": [
    "file = uproot.open(\"/uscms/home/sdurgut1/nobackup/ZH_HToWW_ZTobb_20UL_16/ZH_HToWW_ZTobb_20UL_16.root\")\n",
    "print(file.keys())"
   ]
  },
  {
   "cell_type": "code",
   "execution_count": 8,
   "id": "8d64bca1",
   "metadata": {},
   "outputs": [
    {
     "name": "stdout",
     "output_type": "stream",
     "text": [
      "File opened successfully.\n",
      "Keys: []\n"
     ]
    }
   ],
   "source": [
    "import uproot\n",
    "\n",
    "root_path = \"/uscms/home/sdurgut1/nobackup/ZH_HToWW_ZTobb_20UL_16/ZH_HToWW_ZTobb_20UL_16.root\"\n",
    "try:\n",
    "    file = uproot.open(root_path)\n",
    "    print(\"File opened successfully.\")\n",
    "    print(\"Keys:\", file.keys())\n",
    "except Exception as e:\n",
    "    print(\"Error opening file:\", e)"
   ]
  },
  {
   "cell_type": "code",
   "execution_count": 10,
   "id": "7279c399",
   "metadata": {},
   "outputs": [
    {
     "ename": "UnicodeDecodeError",
     "evalue": "'utf-8' codec can't decode byte 0xef in position 6: invalid continuation byte",
     "output_type": "error",
     "traceback": [
      "\u001b[0;31m---------------------------------------------------------------------------\u001b[0m",
      "\u001b[0;31mUnicodeDecodeError\u001b[0m                        Traceback (most recent call last)",
      "Cell \u001b[0;32mIn[10], line 3\u001b[0m\n\u001b[1;32m      1\u001b[0m \u001b[38;5;28;01mwith\u001b[39;00m \u001b[38;5;28mopen\u001b[39m(\u001b[38;5;124m\"\u001b[39m\u001b[38;5;124m/uscms/home/sdurgut1/nobackup/ZH_HToWW_ZTobb_20UL_16/ZH_HToWW_ZTobb_20UL_16.root\u001b[39m\u001b[38;5;124m\"\u001b[39m) \u001b[38;5;28;01mas\u001b[39;00m f:\n\u001b[1;32m      2\u001b[0m     \u001b[38;5;28;01mfor\u001b[39;00m i \u001b[38;5;129;01min\u001b[39;00m \u001b[38;5;28mrange\u001b[39m(\u001b[38;5;241m20\u001b[39m):\n\u001b[0;32m----> 3\u001b[0m         \u001b[38;5;28mprint\u001b[39m(\u001b[43mf\u001b[49m\u001b[38;5;241;43m.\u001b[39;49m\u001b[43mreadline\u001b[49m\u001b[43m(\u001b[49m\u001b[43m)\u001b[49m\u001b[38;5;241m.\u001b[39mstrip())\n",
      "File \u001b[0;32m/usr/lib64/python3.9/codecs.py:322\u001b[0m, in \u001b[0;36mBufferedIncrementalDecoder.decode\u001b[0;34m(self, input, final)\u001b[0m\n\u001b[1;32m    319\u001b[0m \u001b[38;5;28;01mdef\u001b[39;00m\u001b[38;5;250m \u001b[39m\u001b[38;5;21mdecode\u001b[39m(\u001b[38;5;28mself\u001b[39m, \u001b[38;5;28minput\u001b[39m, final\u001b[38;5;241m=\u001b[39m\u001b[38;5;28;01mFalse\u001b[39;00m):\n\u001b[1;32m    320\u001b[0m     \u001b[38;5;66;03m# decode input (taking the buffer into account)\u001b[39;00m\n\u001b[1;32m    321\u001b[0m     data \u001b[38;5;241m=\u001b[39m \u001b[38;5;28mself\u001b[39m\u001b[38;5;241m.\u001b[39mbuffer \u001b[38;5;241m+\u001b[39m \u001b[38;5;28minput\u001b[39m\n\u001b[0;32m--> 322\u001b[0m     (result, consumed) \u001b[38;5;241m=\u001b[39m \u001b[38;5;28;43mself\u001b[39;49m\u001b[38;5;241;43m.\u001b[39;49m\u001b[43m_buffer_decode\u001b[49m\u001b[43m(\u001b[49m\u001b[43mdata\u001b[49m\u001b[43m,\u001b[49m\u001b[43m \u001b[49m\u001b[38;5;28;43mself\u001b[39;49m\u001b[38;5;241;43m.\u001b[39;49m\u001b[43merrors\u001b[49m\u001b[43m,\u001b[49m\u001b[43m \u001b[49m\u001b[43mfinal\u001b[49m\u001b[43m)\u001b[49m\n\u001b[1;32m    323\u001b[0m     \u001b[38;5;66;03m# keep undecoded input until the next call\u001b[39;00m\n\u001b[1;32m    324\u001b[0m     \u001b[38;5;28mself\u001b[39m\u001b[38;5;241m.\u001b[39mbuffer \u001b[38;5;241m=\u001b[39m data[consumed:]\n",
      "\u001b[0;31mUnicodeDecodeError\u001b[0m: 'utf-8' codec can't decode byte 0xef in position 6: invalid continuation byte"
     ]
    }
   ],
   "source": [
    "with open(\"/uscms/home/sdurgut1/nobackup/ZH_HToWW_ZTobb_20UL_16/ZH_HToWW_ZTobb_20UL_16.root\") as f:\n",
    "    for i in range(20):\n",
    "        print(f.readline().strip())"
   ]
  },
  {
   "cell_type": "code",
   "execution_count": 11,
   "id": "c171942c",
   "metadata": {},
   "outputs": [],
   "source": [
    "import uproot\n",
    "\n",
    "root_path = \"/uscms/home/sdurgut1/nobackup/ZH_HToWW_ZTobb_20UL_16/ZH_HToWW_ZTobb_20UL_16.root\"\n",
    "file = uproot.open(root_path)\n",
    "\n",
    "def print_keys(directory, prefix=\"\"):\n",
    "    for key in directory.keys():\n",
    "        print(prefix + key)\n",
    "        try:\n",
    "            subdir = directory[key]\n",
    "            if hasattr(subdir, \"keys\"):\n",
    "                print_keys(subdir, prefix + \"  \")\n",
    "        except Exception:\n",
    "            pass\n",
    "\n",
    "print_keys(file)"
   ]
  },
  {
   "cell_type": "code",
   "execution_count": null,
   "id": "9306f606",
   "metadata": {},
   "outputs": [],
   "source": []
  }
 ],
 "metadata": {
  "kernelspec": {
   "display_name": ".venv",
   "language": "python",
   "name": "python3"
  },
  "language_info": {
   "codemirror_mode": {
    "name": "ipython",
    "version": 3
   },
   "file_extension": ".py",
   "mimetype": "text/x-python",
   "name": "python",
   "nbconvert_exporter": "python",
   "pygments_lexer": "ipython3",
   "version": "3.9.21"
  }
 },
 "nbformat": 4,
 "nbformat_minor": 5
}
